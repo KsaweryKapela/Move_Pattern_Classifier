{
 "cells": [
  {
   "cell_type": "code",
   "execution_count": 1,
   "metadata": {},
   "outputs": [],
   "source": [
    "import pandas as pd\n",
    "import os\n",
    "from dotenv import load_dotenv\n",
    "\n",
    "load_dotenv()\n",
    "\n",
    "data_path = os.getenv('RAW_DATA_PATH')\n",
    "\n",
    "categories = {'idle': 'idle',\n",
    "              'running': 'run',\n",
    "              'stairs': 'stair',\n",
    "              'walking': 'walk'}"
   ]
  },
  {
   "cell_type": "code",
   "execution_count": 2,
   "metadata": {},
   "outputs": [],
   "source": [
    "import re\n",
    "\n",
    "def natural_sort_key(s):\n",
    "    return [int(text) if text.isdigit() else text.lower() for text in re.split('([0-9]+)', s)]\n",
    "\n",
    "def get_col_names():\n",
    "    col_names = []\n",
    "\n",
    "    for i in range(1, 31):\n",
    "        for l in ['x', 'y', 'z']:\n",
    "            col_names.append(f'{l}_{i}')\n",
    "            \n",
    "    return col_names"
   ]
  },
  {
   "cell_type": "code",
   "execution_count": 3,
   "metadata": {},
   "outputs": [],
   "source": [
    "dataframes = []\n",
    "\n",
    "for category, label in categories.items():\n",
    "    category_path = os.path.join(data_path, category)\n",
    "    \n",
    "    for sample_num, file in enumerate(sorted(os.listdir(category_path), key=natural_sort_key)):\n",
    "        \n",
    "        file_path = os.path.join(category_path, file)\n",
    "        raw_df = pd.read_csv(file_path)\n",
    "        temp_df = pd.DataFrame([raw_df.values.flatten()], columns=get_col_names())\n",
    "        temp_df['action'] = label\n",
    "        \n",
    "        dataframes.append(temp_df)\n",
    "\n",
    "df = pd.concat(dataframes, ignore_index=True)"
   ]
  },
  {
   "cell_type": "code",
   "execution_count": 4,
   "metadata": {},
   "outputs": [],
   "source": [
    "from scipy.stats import entropy, skew, kurtosis\n",
    "import numpy as np\n",
    "\n",
    "for l in ['x', 'y', 'z']:\n",
    "    sensor_columns = [f'{l}_{i}' for i in range(1, 31)]\n",
    "\n",
    "    df[f'{l}_mean'] = df[sensor_columns].mean(axis=1)\n",
    "    df[f'{l}_variance'] = df[sensor_columns].var(axis=1)\n",
    "    df[f'{l}_std'] = df[sensor_columns].std(axis=1)\n",
    "    df[f'{l}_median'] = df[sensor_columns].median(axis=1)\n",
    "    df[f'{l}_range'] = df[sensor_columns].max(axis=1) - df[sensor_columns].min(axis=1)\n",
    "    df[f'{l}_max_value'] = df[sensor_columns].max(axis=1)\n",
    "    df[f'{l}_min_value'] = df[sensor_columns].min(axis=1)\n",
    "    df[f'{l}_rms'] = np.sqrt((df[sensor_columns] ** 2).mean(axis=1))\n",
    "    df[f'{l}_signal_magnitude_area'] = np.abs(df[sensor_columns]).sum(axis=1)\n",
    "    \n",
    "    max_value_indices = df[sensor_columns].idxmax(axis=1)\n",
    "    df[f'{l}_index_max_value'] = max_value_indices.apply(lambda x: int(x.split('_')[1]))\n",
    "    min_value_indices = df[sensor_columns].idxmin(axis=1)\n",
    "    df[f'{l}_index_min_value'] = min_value_indices.apply(lambda x: int(x.split('_')[1]))\n",
    "\n",
    "    df[f'{l}_power'] = (df[sensor_columns] ** 2).mean(axis=1)\n",
    "    df[f'{l}_energy'] = (df[sensor_columns] ** 2).sum(axis=1)\n",
    "    df[f'{l}_entropy'] = df[sensor_columns].apply(lambda x: entropy(x + np.abs(x.min()) + 1), axis=1)\n",
    "    df[f'{l}_skewness'] = df[sensor_columns].skew(axis=1)\n",
    "    df[f'{l}_kurtosis'] = df[sensor_columns].apply(kurtosis, axis=1)\n",
    "    df[f'{l}_interquartile_range'] = df[sensor_columns].quantile(0.75, axis=1) - df[sensor_columns].quantile(0.25, axis=1)\n",
    "    df[f'{l}_mean_absolute_deviation'] = df[sensor_columns].subtract(df[sensor_columns].mean(axis=1), axis=0).abs().mean(axis=1)"
   ]
  },
  {
   "cell_type": "code",
   "execution_count": 6,
   "metadata": {},
   "outputs": [],
   "source": [
    "def calculate_row_cross_correlation(row, sensor1, sensor2):\n",
    "    sensor1_values = row[[f'{sensor1}_{i}' for i in range(1, 31)]].values\n",
    "    sensor2_values = row[[f'{sensor2}_{i}' for i in range(1, 31)]].values\n",
    "    return pd.Series(sensor1_values).corr(pd.Series(sensor2_values))\n",
    "\n",
    "for pair in [('x', 'y'), ('y', 'z'), ('z', 'x')]:\n",
    "    sensor1, sensor2 = pair\n",
    "    df[f'cross_corr_{sensor1}_{sensor2}'] = df.apply(lambda row: calculate_row_cross_correlation(row, sensor1, sensor2), axis=1)"
   ]
  },
  {
   "cell_type": "code",
   "execution_count": 13,
   "metadata": {},
   "outputs": [],
   "source": [
    "df['label'] = pd.factorize(df['action'])[0]\n",
    "df.to_csv('complete_ds_2.csv', index=False)"
   ]
  }
 ],
 "metadata": {
  "kernelspec": {
   "display_name": "env_player",
   "language": "python",
   "name": "python3"
  },
  "language_info": {
   "codemirror_mode": {
    "name": "ipython",
    "version": 3
   },
   "file_extension": ".py",
   "mimetype": "text/x-python",
   "name": "python",
   "nbconvert_exporter": "python",
   "pygments_lexer": "ipython3",
   "version": "3.9.17"
  }
 },
 "nbformat": 4,
 "nbformat_minor": 2
}
