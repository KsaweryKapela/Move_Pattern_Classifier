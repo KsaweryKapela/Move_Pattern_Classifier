{
 "cells": [
  {
   "cell_type": "code",
   "execution_count": 1,
   "metadata": {},
   "outputs": [],
   "source": [
    "import pandas as pd\n",
    "import os\n",
    "from dotenv import load_dotenv\n",
    "\n",
    "load_dotenv()\n",
    "\n",
    "csv_path = os.getenv('PROCESSED_DATA_PATH')\n",
    "df = pd.read_csv(csv_path)"
   ]
  },
  {
   "cell_type": "code",
   "execution_count": 2,
   "metadata": {},
   "outputs": [],
   "source": [
    "all_features = [col for col in df.columns[:-1] if col != 'action']\n",
    "raw_features = list(df.columns[:90])\n",
    "new_features = [feature for feature in all_features if feature not in raw_features]"
   ]
  },
  {
   "cell_type": "code",
   "execution_count": 23,
   "metadata": {},
   "outputs": [],
   "source": [
    "FEATURES = all_features\n",
    "FEATURE_SELECTION = True\n",
    "FEATURES_TO_SELECT = 30"
   ]
  },
  {
   "cell_type": "code",
   "execution_count": 24,
   "metadata": {},
   "outputs": [
    {
     "name": "stdout",
     "output_type": "stream",
     "text": [
      "Selected features: ['y_1', 'x_15', 'x_17', 'z_20', 'x_21', 'z_25', 'z_27', 'y_28', 'x_29', 'z_29', 'x_mean', 'x_variance', 'x_std', 'x_max_value', 'x_kurtosis', 'y_mean', 'y_variance', 'y_std', 'y_range', 'y_min_value', 'y_skewness', 'y_interquartile_range', 'z_median', 'z_max_value', 'z_rms', 'z_interquartile_range', 'z_mean_absolute_deviation', 'cross_corr_x_y', 'cross_corr_y_z', 'cross_corr_z_x']\n",
      "Selected features: ['y_9', 'z_12', 'z_16', 'y_19', 'z_20', 'z_22', 'y_23', 'z_23', 'z_24', 'x_25', 'z_25', 'x_29', 'x_max_value', 'x_rms', 'x_skewness', 'x_kurtosis', 'y_variance', 'y_median', 'y_rms', 'y_skewness', 'y_interquartile_range', 'z_variance', 'z_std', 'z_median', 'z_range', 'z_max_value', 'z_rms', 'z_interquartile_range', 'cross_corr_x_y', 'cross_corr_z_x']\n",
      "Selected features: ['x_11', 'x_15', 'x_17', 'z_20', 'x_21', 'z_23', 'z_25', 'z_27', 'y_28', 'z_29', 'x_variance', 'x_median', 'x_range', 'x_max_value', 'x_signal_magnitude_area', 'x_index_min_value', 'x_kurtosis', 'y_mean', 'y_range', 'y_skewness', 'y_interquartile_range', 'z_variance', 'z_std', 'z_median', 'z_max_value', 'z_rms', 'z_interquartile_range', 'z_mean_absolute_deviation', 'cross_corr_x_y', 'cross_corr_y_z']\n",
      "Selected features: ['z_4', 'z_8', 'x_15', 'y_18', 'x_22', 'x_29', 'x_mean', 'x_max_value', 'x_kurtosis', 'x_mean_absolute_deviation', 'y_mean', 'y_variance', 'y_std', 'y_median', 'y_min_value', 'y_rms', 'y_skewness', 'y_kurtosis', 'z_mean', 'z_variance', 'z_std', 'z_median', 'z_range', 'z_max_value', 'z_rms', 'z_signal_magnitude_area', 'z_interquartile_range', 'z_mean_absolute_deviation', 'cross_corr_x_y', 'cross_corr_y_z']\n",
      "Selected features: ['z_4', 'x_11', 'x_15', 'x_17', 'z_20', 'y_24', 'z_25', 'z_27', 'y_28', 'z_29', 'x_max_value', 'x_kurtosis', 'y_mean', 'y_variance', 'y_std', 'y_median', 'y_skewness', 'y_kurtosis', 'y_interquartile_range', 'z_std', 'z_median', 'z_range', 'z_max_value', 'z_min_value', 'z_rms', 'z_skewness', 'z_interquartile_range', 'cross_corr_x_y', 'cross_corr_y_z', 'cross_corr_z_x']\n",
      "\n",
      "Rf 0.9976787368995712 svm 0.9925721735757437 combined 0.9951254552376575\n"
     ]
    }
   ],
   "source": [
    "import numpy as np\n",
    "import warnings\n",
    "from sklearn.exceptions import ConvergenceWarning\n",
    "\n",
    "from sklearn.metrics import accuracy_score\n",
    "from sklearn.model_selection import cross_val_score, KFold\n",
    "from sklearn.feature_selection import RFE\n",
    "from sklearn.ensemble import RandomForestClassifier\n",
    "from sklearn.svm import SVC\n",
    "warnings.simplefilter('ignore', ConvergenceWarning)\n",
    "\n",
    "\n",
    "selection_svm = SVC(kernel='linear', max_iter=1000000, random_state=8)\n",
    "kfold = KFold(n_splits=5, shuffle=True, random_state=8)\n",
    "\n",
    "rf_accs = []\n",
    "svm_accs = []\n",
    "combined_accs = []\n",
    "\n",
    "X = df[FEATURES]\n",
    "y = df['label']\n",
    "\n",
    "for train_index, test_index in kfold.split(X):\n",
    "\n",
    "    X_train, X_test = X.iloc[train_index], X.iloc[test_index]\n",
    "    y_train, y_test = y.iloc[train_index], y.iloc[test_index]\n",
    "\n",
    "    if FEATURE_SELECTION:\n",
    "\n",
    "        selector = RFE(selection_svm, n_features_to_select=FEATURES_TO_SELECT, step=1)\n",
    "        selector = selector.fit(X_train, y_train)\n",
    "        selected_features = [FEATURES[i] for i in range(len(FEATURES)) if selector.support_[i]]\n",
    "\n",
    "        print(\"Selected features:\", selected_features)\n",
    "\n",
    "        X_train = selector.transform(X_train)\n",
    "        X_test = selector.transform(X_test)\n",
    "\n",
    "    svm = SVC(kernel='linear', random_state=8)\n",
    "    svm.fit(X_train, y_train)\n",
    "    svm_accuracy = svm.score(X_test, y_test)\n",
    "\n",
    "    rf = RandomForestClassifier(random_state=8)\n",
    "    rf.fit(X_train, y_train)\n",
    "    rf_accuracy = rf.score(X_test, y_test)\n",
    "    \n",
    "    mean_accuracy = (svm_accuracy + rf_accuracy)/2\n",
    "\n",
    "    rf_accs.append(rf_accuracy)\n",
    "    svm_accs.append(svm_accuracy)\n",
    "    combined_accs.append(mean_accuracy)\n",
    "\n",
    "print('\\nRf', np.mean(rf_accs), 'svm', np.mean(svm_accs), 'combined', np.mean(combined_accs))"
   ]
  },
  {
   "cell_type": "code",
   "execution_count": 26,
   "metadata": {},
   "outputs": [
    {
     "data": {
      "text/html": [
       "<div>\n",
       "<style scoped>\n",
       "    .dataframe tbody tr th:only-of-type {\n",
       "        vertical-align: middle;\n",
       "    }\n",
       "\n",
       "    .dataframe tbody tr th {\n",
       "        vertical-align: top;\n",
       "    }\n",
       "\n",
       "    .dataframe thead th {\n",
       "        text-align: right;\n",
       "    }\n",
       "</style>\n",
       "<table border=\"1\" class=\"dataframe\">\n",
       "  <thead>\n",
       "    <tr style=\"text-align: right;\">\n",
       "      <th></th>\n",
       "      <th>rf</th>\n",
       "      <th>svm</th>\n",
       "      <th>combined</th>\n",
       "    </tr>\n",
       "  </thead>\n",
       "  <tbody>\n",
       "    <tr>\n",
       "      <th>Fold_1</th>\n",
       "      <td>0.999227</td>\n",
       "      <td>0.994586</td>\n",
       "      <td>0.996906</td>\n",
       "    </tr>\n",
       "    <tr>\n",
       "      <th>Fold_2</th>\n",
       "      <td>0.996133</td>\n",
       "      <td>0.989172</td>\n",
       "      <td>0.992653</td>\n",
       "    </tr>\n",
       "    <tr>\n",
       "      <th>Fold_3</th>\n",
       "      <td>0.999226</td>\n",
       "      <td>0.993808</td>\n",
       "      <td>0.996517</td>\n",
       "    </tr>\n",
       "    <tr>\n",
       "      <th>Fold_4</th>\n",
       "      <td>0.997678</td>\n",
       "      <td>0.992260</td>\n",
       "      <td>0.994969</td>\n",
       "    </tr>\n",
       "    <tr>\n",
       "      <th>Fold_5</th>\n",
       "      <td>0.996130</td>\n",
       "      <td>0.993034</td>\n",
       "      <td>0.994582</td>\n",
       "    </tr>\n",
       "    <tr>\n",
       "      <th>Mean folds</th>\n",
       "      <td>0.997679</td>\n",
       "      <td>0.992572</td>\n",
       "      <td>0.995125</td>\n",
       "    </tr>\n",
       "  </tbody>\n",
       "</table>\n",
       "</div>"
      ],
      "text/plain": [
       "                  rf       svm  combined\n",
       "Fold_1      0.999227  0.994586  0.996906\n",
       "Fold_2      0.996133  0.989172  0.992653\n",
       "Fold_3      0.999226  0.993808  0.996517\n",
       "Fold_4      0.997678  0.992260  0.994969\n",
       "Fold_5      0.996130  0.993034  0.994582\n",
       "Mean folds  0.997679  0.992572  0.995125"
      ]
     },
     "execution_count": 26,
     "metadata": {},
     "output_type": "execute_result"
    }
   ],
   "source": [
    "import pandas as pd\n",
    "\n",
    "fold_names = [f'Fold_{i+1}' for i in range(5)]\n",
    "data = {\n",
    "        'rf': rf_accs + [np.mean(rf_accs)],\n",
    "        'svm': svm_accs + [np.mean(svm_accs)],\n",
    "        'combined': combined_accs + [np.mean(combined_accs)]\n",
    "        }\n",
    "\n",
    "fold_names.append('Mean folds')\n",
    "\n",
    "results_df = pd.DataFrame(data, index=fold_names)\n",
    "\n",
    "results_df"
   ]
  }
 ],
 "metadata": {
  "kernelspec": {
   "display_name": "env_player",
   "language": "python",
   "name": "python3"
  },
  "language_info": {
   "codemirror_mode": {
    "name": "ipython",
    "version": 3
   },
   "file_extension": ".py",
   "mimetype": "text/x-python",
   "name": "python",
   "nbconvert_exporter": "python",
   "pygments_lexer": "ipython3",
   "version": "3.9.17"
  }
 },
 "nbformat": 4,
 "nbformat_minor": 2
}
